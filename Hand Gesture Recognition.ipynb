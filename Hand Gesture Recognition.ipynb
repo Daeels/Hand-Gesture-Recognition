{
 "cells": [
  {
   "cell_type": "markdown",
   "metadata": {},
   "source": [
    "# 1. Install and Import Dependencies"
   ]
  },
  {
   "cell_type": "code",
   "execution_count": 1,
   "metadata": {},
   "outputs": [],
   "source": [
    "import mediapipe as mp\n",
    "import cv2\n",
    "import numpy as np\n",
    "import uuid\n",
    "import os\n",
    "import time\n",
    "import autopy \n",
    "import math\n",
    "import _thread\n",
    "import sys\n",
    "import json"
   ]
  },
  {
   "cell_type": "code",
   "execution_count": 2,
   "metadata": {},
   "outputs": [],
   "source": [
    "mp_drawing = mp.solutions.drawing_utils\n",
    "mp_hands = mp.solutions.hands"
   ]
  },
  {
   "cell_type": "markdown",
   "metadata": {},
   "source": [
    "# 2. Draw Hands\n",
    "<img src=https://i.imgur.com/qpRACer.png />"
   ]
  },
  {
   "cell_type": "code",
   "execution_count": 3,
   "metadata": {},
   "outputs": [],
   "source": [
    "# def click_timer(name):\n",
    "#     while True :\n",
    "#         if (flag == 1) :\n",
    "#             autopy.mouse.click()\n",
    "#             time.sleep(0.1)"
   ]
  },
  {
   "cell_type": "code",
   "execution_count": 4,
   "metadata": {},
   "outputs": [
    {
     "name": "stdout",
     "output_type": "stream",
     "text": [
      "1920.0\n",
      "1080.0\n"
     ]
    }
   ],
   "source": [
    "prev_x = 0.5\n",
    "prev_y = 0.5\n",
    "S = 0.2 #sensibility \n",
    "L = 9 #landmark\n",
    "smoothening = 7\n",
    "wCam = 1280\n",
    "hCam = 720\n",
    "wScr , hScr = autopy.screen.size()\n",
    "print(wScr)\n",
    "print(hScr)\n",
    "plocX, plocY = 0, 0\n",
    "clocX, clocY = 0, 0\n",
    "frameR = 200\n",
    "# global flag\n",
    "# flag = 0\n",
    "# _thread.start_new_thread( click_timer, (\"thread\", ) )"
   ]
  },
  {
   "cell_type": "code",
   "execution_count": 5,
   "metadata": {},
   "outputs": [
    {
     "ename": "FileNotFoundError",
     "evalue": "[Errno 2] No such file or directory: '-f.json'",
     "output_type": "error",
     "traceback": [
      "\u001b[1;31m---------------------------------------------------------------------------\u001b[0m",
      "\u001b[1;31mFileNotFoundError\u001b[0m                         Traceback (most recent call last)",
      "\u001b[1;32m<ipython-input-5-86a671c54d73>\u001b[0m in \u001b[0;36m<module>\u001b[1;34m\u001b[0m\n\u001b[1;32m----> 1\u001b[1;33m \u001b[1;32mwith\u001b[0m \u001b[0mopen\u001b[0m\u001b[1;33m(\u001b[0m\u001b[0msys\u001b[0m\u001b[1;33m.\u001b[0m\u001b[0margv\u001b[0m\u001b[1;33m[\u001b[0m\u001b[1;36m1\u001b[0m\u001b[1;33m]\u001b[0m\u001b[1;33m+\u001b[0m\u001b[1;34m'.json'\u001b[0m\u001b[1;33m,\u001b[0m \u001b[1;34m'r'\u001b[0m\u001b[1;33m)\u001b[0m \u001b[1;32mas\u001b[0m \u001b[0moutfile\u001b[0m\u001b[1;33m:\u001b[0m\u001b[1;33m\u001b[0m\u001b[1;33m\u001b[0m\u001b[0m\n\u001b[0m\u001b[0;32m      2\u001b[0m     \u001b[0mslides\u001b[0m \u001b[1;33m=\u001b[0m \u001b[0mjson\u001b[0m\u001b[1;33m.\u001b[0m\u001b[0mload\u001b[0m\u001b[1;33m(\u001b[0m\u001b[0moutfile\u001b[0m\u001b[1;33m)\u001b[0m\u001b[1;33m\u001b[0m\u001b[1;33m\u001b[0m\u001b[0m\n",
      "\u001b[1;31mFileNotFoundError\u001b[0m: [Errno 2] No such file or directory: '-f.json'"
     ]
    }
   ],
   "source": [
    "with open(sys.argv[1]+'.json', 'r') as outfile:     \n",
    "    slides = json.load(outfile)"
   ]
  },
  {
   "cell_type": "code",
   "execution_count": null,
   "metadata": {},
   "outputs": [],
   "source": [
    "cap = cv2.VideoCapture(0)\n",
    "cap.set(3, wCam)\n",
    "cap.set(4, hCam)\n",
    "\n",
    "with mp_hands.Hands(min_detection_confidence=0.8, min_tracking_confidence=0.5) as hands: \n",
    "    while cap.isOpened():\n",
    "        ret, frame = cap.read()\n",
    "        \n",
    "        \n",
    "#         print(frame.shape)\n",
    "        # BGR 2 RGB\n",
    "        image = cv2.cvtColor(frame, cv2.COLOR_BGR2RGB)\n",
    "        \n",
    "        # Detections\n",
    "        results = hands.process(image)\n",
    "        \n",
    "        # RGB 2 BGR\n",
    "        image = cv2.cvtColor(image, cv2.COLOR_RGB2BGR)\n",
    "        \n",
    "        # Rendering results\n",
    "        if results.multi_hand_landmarks:\n",
    "#             cv2.rectangle(image, (frameR, frameR), ( wCam - frameR, hCam - frameR),(255, 0, 255), 2)\n",
    "            for num, hand in enumerate(results.multi_hand_landmarks):\n",
    "                mp_drawing.draw_landmarks(image, hand, mp_hands.HAND_CONNECTIONS, \n",
    "                                        mp_drawing.DrawingSpec(color=(121, 22, 76), thickness=2, circle_radius=4),\n",
    "                                        mp_drawing.DrawingSpec(color=(250, 44, 250), thickness=2, circle_radius=2),\n",
    "                                         )\n",
    "\n",
    "                x1 = hand.landmark[L].x * wCam\n",
    "                y1 = hand.landmark[L].y * hCam\n",
    "#                      \n",
    "                x3 = np.interp(x1, (frameR, wCam - frameR), (0, wScr))\n",
    "                y3 = np.interp(y1, (frameR , hCam -frameR ), (0, hScr))\n",
    "\n",
    "#                     print(x1)\n",
    "#                     print(x3)\n",
    "\n",
    "\n",
    "                clocX = plocX + (x3 - plocX) / 7\n",
    "                clocY = plocY + (y3 - plocY) / 7\n",
    "\n",
    "                autopy.mouse.move(wScr - clocX , clocY )\n",
    "                plocX, plocY = clocX, clocY\n",
    "\n",
    "#                     print(plocX, \" \", plocY)\n",
    "#                     print(clocX, \" \", clocY)\n",
    "                H = hand.landmark[L].x - prev_x\n",
    "                V = hand.landmark[L].y - prev_y\n",
    "                prev_x = hand.landmark[L].x\n",
    "                prev_y = hand.landmark[L].y\n",
    "                if (H > S):\n",
    "                    exec(slides[\"right\"])\n",
    "                if (H < -S):\n",
    "                    exec(slides[\"left\"])\n",
    "                if (V > S):\n",
    "                    exec(slides[\"down\"])\n",
    "                if (V < -S):\n",
    "                    exec(slides[\"up\"])\n",
    "                click_dist = math.sqrt((hand.landmark[12].x - hand.landmark[9].x)**2 + (hand.landmark[12].y - hand.landmark[9].y)**2)\n",
    "                if (click_dist < 0.03 ) :\n",
    "                    exec(slides[\"click\"])\n",
    "                    time.sleep(0.2)\n",
    "                pinch_dist = math.sqrt((hand.landmark[8].x - hand.landmark[4].x)**2 + (hand.landmark[8   ].y - hand.landmark[4].y)**2)\n",
    "                if (pinch_dist < 0.03 ) :\n",
    "                    exec(slides[\"pinch\"])\n",
    "                    time.sleep(0.2)\n",
    "                    \n",
    "\n",
    "        try :\n",
    "            cv2.imshow('Hand Tracking', image)\n",
    "        except : \n",
    "            cap.release()\n",
    "            cv2.destroyAllWindows()\n",
    "\n",
    "        if cv2.waitKey(10) & 0xFF == ord('q'):\n",
    "            break\n",
    "\n",
    "cap.release()\n",
    "cv2.destroyAllWindows()"
   ]
  }
 ],
 "metadata": {
  "kernelspec": {
   "display_name": "Python 3.7.9",
   "language": "python",
   "name": "python3"
  },
  "language_info": {
   "codemirror_mode": {
    "name": "ipython",
    "version": 3
   },
   "file_extension": ".py",
   "mimetype": "text/x-python",
   "name": "python",
   "nbconvert_exporter": "python",
   "pygments_lexer": "ipython3",
   "version": "3.7.10"
  }
 },
 "nbformat": 4,
 "nbformat_minor": 2
}
